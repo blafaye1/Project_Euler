{
 "cells": [
  {
   "cell_type": "code",
   "execution_count": 69,
   "metadata": {},
   "outputs": [],
   "source": [
    "def get_first(x):\n",
    "    while x >= 10:\n",
    "        x = get_all_but_last(x)\n",
    "    return x\n",
    "\n",
    "def get_all_but_first(x):\n",
    "    return_val = 0\n",
    "    pow_10 = 0\n",
    "    while x >= 10:\n",
    "        return_val += get_last(x)*(10**pow_10)\n",
    "        pow_10 += 1\n",
    "        x = get_all_but_last(x)\n",
    "    return return_val\n",
    "\n",
    "def get_last(x):\n",
    "    return x % 10\n",
    "\n",
    "def get_all_but_last(x):\n",
    "    return x // 10\n",
    "\n",
    "def is_palindrome_int(x):\n",
    "#     if x < 10:\n",
    "#         return True\n",
    "#     if x < 100:\n",
    "#         return get_first(x) == get_last(x)\n",
    "#     if get_first(x) == get_last(x):\n",
    "#         return is_palindrome(get_all_but_first(get_all_but_last(x)))\n",
    "#     return False\n",
    "    return is_palindrome_str(str(x))\n",
    "\n",
    "def is_palindrome_str(s):\n",
    "    if len(s) == 1:\n",
    "        return True\n",
    "    if len(s) == 2:\n",
    "        return s[0] == s[1]\n",
    "    if s[0] == s[len(s) - 1]:\n",
    "        return is_palindrome_str(s[1:len(s) - 1])\n",
    "    return False\n",
    "\n",
    "def max_palindrome(num_digits):\n",
    "    return_max = 1\n",
    "    max_factor = 10**num_digits\n",
    "    for i in range(max_factor):\n",
    "        for j in range(max_factor):\n",
    "            test = i*j\n",
    "            if is_palindrome_int(test) and test > return_max:\n",
    "                return_max = test\n",
    "    \n",
    "    return return_max"
   ]
  },
  {
   "cell_type": "code",
   "execution_count": 71,
   "metadata": {
    "scrolled": true
   },
   "outputs": [
    {
     "data": {
      "text/plain": [
       "906609"
      ]
     },
     "execution_count": 71,
     "metadata": {},
     "output_type": "execute_result"
    }
   ],
   "source": [
    "# max_palindrome(2)\n",
    "max_palindrome(3)"
   ]
  },
  {
   "cell_type": "code",
   "execution_count": 43,
   "metadata": {},
   "outputs": [
    {
     "name": "stdout",
     "output_type": "stream",
     "text": [
      "9\n",
      "99\n",
      "9\n",
      "90009\n"
     ]
    }
   ],
   "source": [
    "x = 900099\n",
    "print(get_first(x))\n",
    "print(get_all_but_first(x))\n",
    "print(get_last(x))\n",
    "print(get_all_but_last(x))"
   ]
  },
  {
   "cell_type": "code",
   "execution_count": 68,
   "metadata": {},
   "outputs": [
    {
     "data": {
      "text/plain": [
       "False"
      ]
     },
     "execution_count": 68,
     "metadata": {},
     "output_type": "execute_result"
    }
   ],
   "source": [
    "is_palindrome_int(89)"
   ]
  },
  {
   "cell_type": "code",
   "execution_count": null,
   "metadata": {},
   "outputs": [],
   "source": []
  }
 ],
 "metadata": {
  "kernelspec": {
   "display_name": "Python 3",
   "language": "python",
   "name": "python3"
  },
  "language_info": {
   "codemirror_mode": {
    "name": "ipython",
    "version": 3
   },
   "file_extension": ".py",
   "mimetype": "text/x-python",
   "name": "python",
   "nbconvert_exporter": "python",
   "pygments_lexer": "ipython3",
   "version": "3.7.4"
  }
 },
 "nbformat": 4,
 "nbformat_minor": 2
}
