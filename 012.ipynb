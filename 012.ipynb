{
 "cells": [
  {
   "cell_type": "code",
   "execution_count": 1,
   "metadata": {},
   "outputs": [],
   "source": [
    "import numpy as np"
   ]
  },
  {
   "cell_type": "code",
   "execution_count": 22,
   "metadata": {},
   "outputs": [],
   "source": [
    "def find_prime_factors(x):\n",
    "    return_dict = dict()\n",
    "    dividend = 2\n",
    "    while dividend <= x:\n",
    "        if x % dividend == 0:\n",
    "            x /= dividend\n",
    "            if dividend in return_dict:\n",
    "                return_dict[dividend] += 1\n",
    "            else:\n",
    "                return_dict[dividend] = 1\n",
    "        else:\n",
    "            dividend += 1\n",
    "    \n",
    "    return return_dict\n",
    "\n",
    "def num_divisors_old(x):\n",
    "    d = find_prime_factors(x)\n",
    "    \n",
    "    return\n",
    "\n",
    "def num_divisors_new(x):\n",
    "    curr = 1\n",
    "    last = x\n",
    "    count = 0\n",
    "    while curr < last:\n",
    "        if x % curr == 0:\n",
    "            if x / curr == curr:\n",
    "                count += 1\n",
    "            else:\n",
    "                count += 2\n",
    "        last = x / curr\n",
    "        curr += 1\n",
    "    return count\n",
    "            \n",
    "\n",
    "def first_over_n(n):\n",
    "    curr = 2\n",
    "    tri = 1\n",
    "    while True:\n",
    "        tri += curr\n",
    "        if num_divisors_new(tri) > n:\n",
    "            return tri\n",
    "        curr += 1"
   ]
  },
  {
   "cell_type": "code",
   "execution_count": 24,
   "metadata": {},
   "outputs": [
    {
     "data": {
      "text/plain": [
       "76576500"
      ]
     },
     "execution_count": 24,
     "metadata": {},
     "output_type": "execute_result"
    }
   ],
   "source": [
    "# first_over_n(5)\n",
    "first_over_n(500)"
   ]
  },
  {
   "cell_type": "code",
   "execution_count": 3,
   "metadata": {},
   "outputs": [
    {
     "data": {
      "text/plain": [
       "0.0"
      ]
     },
     "execution_count": 3,
     "metadata": {},
     "output_type": "execute_result"
    }
   ],
   "source": [
    "# 2^2 * 7\n",
    "# 2, 4, 14, 28\n",
    "22.0 % 1"
   ]
  },
  {
   "cell_type": "code",
   "execution_count": 19,
   "metadata": {},
   "outputs": [
    {
     "data": {
      "text/plain": [
       "2"
      ]
     },
     "execution_count": 19,
     "metadata": {},
     "output_type": "execute_result"
    }
   ],
   "source": [
    "num_divisors_new(7)"
   ]
  },
  {
   "cell_type": "code",
   "execution_count": null,
   "metadata": {},
   "outputs": [],
   "source": []
  }
 ],
 "metadata": {
  "kernelspec": {
   "display_name": "Python 3",
   "language": "python",
   "name": "python3"
  },
  "language_info": {
   "codemirror_mode": {
    "name": "ipython",
    "version": 3
   },
   "file_extension": ".py",
   "mimetype": "text/x-python",
   "name": "python",
   "nbconvert_exporter": "python",
   "pygments_lexer": "ipython3",
   "version": "3.7.4"
  }
 },
 "nbformat": 4,
 "nbformat_minor": 2
}
