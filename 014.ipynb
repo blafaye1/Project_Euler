{
 "cells": [
  {
   "cell_type": "code",
   "execution_count": 12,
   "metadata": {},
   "outputs": [],
   "source": [
    "def get_next_coll(n):\n",
    "    if n % 2 == 0:\n",
    "        return n // 2\n",
    "    return 3*n + 1\n",
    "\n",
    "def add_to_dict(n, d, max_num, max_len):\n",
    "    next_coll = get_next_coll(n)\n",
    "    addl_count = 1\n",
    "    while next_coll not in d:\n",
    "#         msf = add_to_dict(next_coll, d, msf)\n",
    "        next_coll = get_next_coll(next_coll)\n",
    "        addl_count += 1\n",
    "    new_count = d[next_coll] + addl_count\n",
    "    d[n] = new_count\n",
    "    if new_count > max_len:\n",
    "        return n, new_count\n",
    "    return max_num, max_len"
   ]
  },
  {
   "cell_type": "code",
   "execution_count": 14,
   "metadata": {},
   "outputs": [
    {
     "name": "stdout",
     "output_type": "stream",
     "text": [
      "837799\n",
      "525\n"
     ]
    }
   ],
   "source": [
    "max_num_so_far = 1\n",
    "max_len_so_far = 1\n",
    "cached_links = dict({1: 1})\n",
    "\n",
    "for i in range(2, 1000000):\n",
    "    max_num_so_far, max_len_so_far = add_to_dict(i, cached_links, max_num_so_far, max_len_so_far)\n",
    "\n",
    "print(max_num_so_far)\n",
    "print(max_len_so_far)"
   ]
  },
  {
   "cell_type": "code",
   "execution_count": 11,
   "metadata": {},
   "outputs": [
    {
     "data": {
      "text/plain": [
       "2"
      ]
     },
     "execution_count": 11,
     "metadata": {},
     "output_type": "execute_result"
    }
   ],
   "source": [
    "get_next_coll(4)"
   ]
  },
  {
   "cell_type": "code",
   "execution_count": null,
   "metadata": {},
   "outputs": [],
   "source": []
  }
 ],
 "metadata": {
  "kernelspec": {
   "display_name": "Python 3",
   "language": "python",
   "name": "python3"
  },
  "language_info": {
   "codemirror_mode": {
    "name": "ipython",
    "version": 3
   },
   "file_extension": ".py",
   "mimetype": "text/x-python",
   "name": "python",
   "nbconvert_exporter": "python",
   "pygments_lexer": "ipython3",
   "version": "3.7.4"
  }
 },
 "nbformat": 4,
 "nbformat_minor": 2
}
