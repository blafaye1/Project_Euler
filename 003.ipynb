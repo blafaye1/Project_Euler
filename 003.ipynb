{
 "cells": [
  {
   "cell_type": "code",
   "execution_count": 5,
   "metadata": {},
   "outputs": [],
   "source": [
    "import numpy as np"
   ]
  },
  {
   "cell_type": "code",
   "execution_count": 47,
   "metadata": {},
   "outputs": [],
   "source": [
    "def halfway(y):\n",
    "    return int(np.sqrt(y))\n",
    "\n",
    "def is_prime(x):\n",
    "    stop = halfway(x)\n",
    "    for i in range(2, stop + 1):\n",
    "        if x % i == 0:\n",
    "            return False\n",
    "    return True\n",
    "\n",
    "def max_prime_factor(n):\n",
    "    top_so_far = 1\n",
    "    for i in range(1, halfway(n) + 1):\n",
    "        if n % i == 0:\n",
    "            factor = n / i\n",
    "            if is_prime(factor):\n",
    "                return factor\n",
    "            elif is_prime(i):\n",
    "                top_so_far = i\n",
    "    return top_so_far"
   ]
  },
  {
   "cell_type": "code",
   "execution_count": 50,
   "metadata": {},
   "outputs": [
    {
     "data": {
      "text/plain": [
       "6857"
      ]
     },
     "execution_count": 50,
     "metadata": {},
     "output_type": "execute_result"
    }
   ],
   "source": [
    "# max_prime_factor(40)\n",
    "# max_prime_factor(13195)\n",
    "max_prime_factor(600851475143)"
   ]
  },
  {
   "cell_type": "code",
   "execution_count": null,
   "metadata": {},
   "outputs": [],
   "source": []
  }
 ],
 "metadata": {
  "kernelspec": {
   "display_name": "Python 3",
   "language": "python",
   "name": "python3"
  },
  "language_info": {
   "codemirror_mode": {
    "name": "ipython",
    "version": 3
   },
   "file_extension": ".py",
   "mimetype": "text/x-python",
   "name": "python",
   "nbconvert_exporter": "python",
   "pygments_lexer": "ipython3",
   "version": "3.7.4"
  }
 },
 "nbformat": 4,
 "nbformat_minor": 2
}
