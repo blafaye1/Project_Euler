{
 "cells": [
  {
   "cell_type": "code",
   "execution_count": 5,
   "metadata": {},
   "outputs": [],
   "source": [
    "import numpy as np"
   ]
  },
  {
   "cell_type": "code",
   "execution_count": 24,
   "metadata": {},
   "outputs": [],
   "source": [
    "def halfway(y):\n",
    "    return int(np.sqrt(y))\n",
    "\n",
    "def is_prime(x):\n",
    "    stop = halfway(x)\n",
    "    for i in range(2, stop + 1):\n",
    "        if x % i == 0:\n",
    "            return False\n",
    "    return True\n",
    "\n",
    "def find_prime_factors(x):\n",
    "    return_dict = dict()\n",
    "    dividend = 2\n",
    "    while dividend <= x:\n",
    "        if x % dividend == 0:\n",
    "            x /= dividend\n",
    "            if dividend in return_dict:\n",
    "                return_dict[dividend] += 1\n",
    "            else:\n",
    "                return_dict[dividend] = 1\n",
    "        else:\n",
    "            dividend += 1\n",
    "    \n",
    "    return return_dict\n",
    "\n",
    "def smallest_divided(n):\n",
    "    total_dict = dict()\n",
    "    for i in range(2, n + 1):\n",
    "        temp_dict = find_prime_factors(i)\n",
    "        for x in temp_dict:\n",
    "            if x in total_dict:\n",
    "                total_dict[x] = max(total_dict[x], temp_dict[x])\n",
    "            else:\n",
    "                total_dict[x] = temp_dict[x]\n",
    "    \n",
    "    total = 1\n",
    "    for el in total_dict:\n",
    "        total *= el ** (total_dict[el])\n",
    "    \n",
    "    return total"
   ]
  },
  {
   "cell_type": "code",
   "execution_count": 23,
   "metadata": {},
   "outputs": [
    {
     "data": {
      "text/plain": [
       "{2: 1}"
      ]
     },
     "execution_count": 23,
     "metadata": {},
     "output_type": "execute_result"
    }
   ],
   "source": [
    "find_prime_factors(2)"
   ]
  },
  {
   "cell_type": "code",
   "execution_count": 26,
   "metadata": {},
   "outputs": [
    {
     "name": "stdout",
     "output_type": "stream",
     "text": [
      "232792560\n"
     ]
    }
   ],
   "source": [
    "# print(smallest_divided(10))\n",
    "print(smallest_divided(20))"
   ]
  },
  {
   "cell_type": "code",
   "execution_count": null,
   "metadata": {},
   "outputs": [],
   "source": []
  }
 ],
 "metadata": {
  "kernelspec": {
   "display_name": "Python 3",
   "language": "python",
   "name": "python3"
  },
  "language_info": {
   "codemirror_mode": {
    "name": "ipython",
    "version": 3
   },
   "file_extension": ".py",
   "mimetype": "text/x-python",
   "name": "python",
   "nbconvert_exporter": "python",
   "pygments_lexer": "ipython3",
   "version": "3.7.4"
  }
 },
 "nbformat": 4,
 "nbformat_minor": 2
}
